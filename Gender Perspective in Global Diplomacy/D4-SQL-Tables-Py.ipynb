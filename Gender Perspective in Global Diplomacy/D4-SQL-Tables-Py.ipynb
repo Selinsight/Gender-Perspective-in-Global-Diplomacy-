{
 "cells": [
  {
   "cell_type": "markdown",
   "metadata": {},
   "source": [
    "<h1 style=\"color: #00BFFF;\">Python-SQL Connection</h1>"
   ]
  },
  {
   "cell_type": "code",
   "execution_count": 1,
   "metadata": {},
   "outputs": [],
   "source": [
    "# 📚 Basic libraries\n",
    "import pandas as pd # data manipulation\n",
    "import numpy as np # numerical operations\n",
    "import warnings # warning messages management\n",
    "\n",
    "# ⚙️ Settings\n",
    "pd.set_option('display.max_columns', None) # display all columns\n",
    "warnings.filterwarnings('ignore') # ignore warnings\n",
    "\n",
    "# 🌐 New Libraries\n",
    "from getpass import getpass # get password without showing it\n",
    "import pymysql # MySQL connection\n",
    "\n",
    "# ⚙️ Settings\n",
    "pd.set_option('display.max_columns', None) # display all columns\n",
    "warnings.filterwarnings('ignore') # ignore warnings"
   ]
  },
  {
   "cell_type": "code",
   "execution_count": 2,
   "metadata": {},
   "outputs": [],
   "source": [
    "def create_connection():\n",
    "    password = getpass(\"Please, kindly insert your password: \")\n",
    "    cnx = pymysql.connect(user='root', password=password, host='localhost')\n",
    "    \n",
    "    if cnx.open:\n",
    "        print(\"Connection successfully opened.\")\n",
    "        print()\n",
    "        cursor = cnx.cursor()\n",
    "        cursor.execute(\"SHOW DATABASES\")\n",
    "        databases = cursor.fetchall()\n",
    "        print(\"Available databases:\")\n",
    "        db_list = [db[0] for db in databases]\n",
    "        for db in db_list:\n",
    "            print(f\"- {db}\")\n",
    "        print()\n",
    "    else:\n",
    "        print(\"Failed to open connection.\")\n",
    "        print()\n",
    "        return None\n",
    "    \n",
    "    while True:\n",
    "        database = input(\"Please, kindly insert your database name: \")\n",
    "        if database in db_list:\n",
    "            cnx.select_db(database)\n",
    "            break\n",
    "        else:\n",
    "            print(\"Invalid database name. Please choose from the available databases.\")\n",
    "            print()\n",
    "    \n",
    "    return cnx"
   ]
  },
  {
   "cell_type": "markdown",
   "metadata": {},
   "source": [
    "<h2 style=\"color: #00BFFF;\">[1] Connecting to MySQL Workbench</h2>"
   ]
  },
  {
   "cell_type": "code",
   "execution_count": 3,
   "metadata": {},
   "outputs": [
    {
     "name": "stdout",
     "output_type": "stream",
     "text": [
      "Connection successfully opened.\n",
      "\n",
      "Available databases:\n",
      "- amz_uk_price_prediction_dataset\n",
      "- AppleDB\n",
      "- information_schema\n",
      "- iss_db_final\n",
      "- LibraryDB\n",
      "- mysql\n",
      "- performance_schema\n",
      "- sakila\n",
      "- sys\n",
      "- w3schools\n",
      "\n"
     ]
    }
   ],
   "source": [
    "# To test it, use a DB from Drive: LibraryDB, AppleDB or w3schools\n",
    "connection = create_connection()"
   ]
  },
  {
   "cell_type": "markdown",
   "metadata": {},
   "source": [
    "<h2 style=\"color: #00BFFF;\">[2] ETL: Data Storage</h2>"
   ]
  },
  {
   "cell_type": "code",
   "execution_count": null,
   "metadata": {},
   "outputs": [],
   "source": [
    "df = pd.read_csv(\"clean_data.csv\")"
   ]
  },
  {
   "cell_type": "code",
   "execution_count": 13,
   "metadata": {},
   "outputs": [],
   "source": [
    "df.drop(columns=[\"Unnamed: 0\"], inplace=True)"
   ]
  },
  {
   "cell_type": "code",
   "execution_count": 17,
   "metadata": {},
   "outputs": [],
   "source": [
    "cursor = connection.cursor()"
   ]
  },
  {
   "cell_type": "code",
   "execution_count": 18,
   "metadata": {},
   "outputs": [],
   "source": [
    "cursor.execute(\"create database if not exists diplomacyDB;\")\n",
    "connection.commit()"
   ]
  },
  {
   "cell_type": "code",
   "execution_count": null,
   "metadata": {},
   "outputs": [],
   "source": [
    "connection.select_db(\"diplomacyDB\")\n",
    "connection.commit()"
   ]
  },
  {
   "cell_type": "code",
   "execution_count": 19,
   "metadata": {},
   "outputs": [
    {
     "data": {
      "text/html": [
       "<div>\n",
       "<style scoped>\n",
       "    .dataframe tbody tr th:only-of-type {\n",
       "        vertical-align: middle;\n",
       "    }\n",
       "\n",
       "    .dataframe tbody tr th {\n",
       "        vertical-align: top;\n",
       "    }\n",
       "\n",
       "    .dataframe thead th {\n",
       "        text-align: right;\n",
       "    }\n",
       "</style>\n",
       "<table border=\"1\" class=\"dataframe\">\n",
       "  <thead>\n",
       "    <tr style=\"text-align: right;\">\n",
       "      <th></th>\n",
       "      <th>year</th>\n",
       "      <th>cname_send</th>\n",
       "      <th>main_posting</th>\n",
       "      <th>title</th>\n",
       "      <th>gender</th>\n",
       "      <th>cname_receive</th>\n",
       "      <th>ccode_send</th>\n",
       "      <th>ccodealp_send</th>\n",
       "      <th>ccodeCOW_send</th>\n",
       "      <th>region_send</th>\n",
       "      <th>GME_send</th>\n",
       "      <th>v2lgfemleg_send</th>\n",
       "      <th>FFP_send</th>\n",
       "      <th>ccode_receive</th>\n",
       "      <th>ccodealp_receive</th>\n",
       "      <th>ccodeCOW_receive</th>\n",
       "      <th>region_receive</th>\n",
       "      <th>GME_receive</th>\n",
       "      <th>FFP_receive</th>\n",
       "    </tr>\n",
       "  </thead>\n",
       "  <tbody>\n",
       "    <tr>\n",
       "      <th>0</th>\n",
       "      <td>1968</td>\n",
       "      <td>Afghanistan</td>\n",
       "      <td>1</td>\n",
       "      <td>3</td>\n",
       "      <td>0</td>\n",
       "      <td>China</td>\n",
       "      <td>4</td>\n",
       "      <td>AFG</td>\n",
       "      <td>700</td>\n",
       "      <td>1</td>\n",
       "      <td>1</td>\n",
       "      <td>2.0</td>\n",
       "      <td>0</td>\n",
       "      <td>156</td>\n",
       "      <td>CHN</td>\n",
       "      <td>710</td>\n",
       "      <td>1</td>\n",
       "      <td>0</td>\n",
       "      <td>0</td>\n",
       "    </tr>\n",
       "    <tr>\n",
       "      <th>1</th>\n",
       "      <td>1968</td>\n",
       "      <td>Afghanistan</td>\n",
       "      <td>1</td>\n",
       "      <td>3</td>\n",
       "      <td>0</td>\n",
       "      <td>Czechoslovakia</td>\n",
       "      <td>4</td>\n",
       "      <td>AFG</td>\n",
       "      <td>700</td>\n",
       "      <td>1</td>\n",
       "      <td>1</td>\n",
       "      <td>2.0</td>\n",
       "      <td>0</td>\n",
       "      <td>200</td>\n",
       "      <td>CSK</td>\n",
       "      <td>315</td>\n",
       "      <td>3</td>\n",
       "      <td>0</td>\n",
       "      <td>0</td>\n",
       "    </tr>\n",
       "  </tbody>\n",
       "</table>\n",
       "</div>"
      ],
      "text/plain": [
       "   year   cname_send  main_posting  title  gender   cname_receive  ccode_send  \\\n",
       "0  1968  Afghanistan             1      3       0           China           4   \n",
       "1  1968  Afghanistan             1      3       0  Czechoslovakia           4   \n",
       "\n",
       "  ccodealp_send  ccodeCOW_send  region_send  GME_send  v2lgfemleg_send  \\\n",
       "0          AFG             700            1         1              2.0   \n",
       "1          AFG             700            1         1              2.0   \n",
       "\n",
       "   FFP_send  ccode_receive ccodealp_receive  ccodeCOW_receive  region_receive  \\\n",
       "0         0            156             CHN                710               1   \n",
       "1         0            200              CSK               315               3   \n",
       "\n",
       "   GME_receive  FFP_receive  \n",
       "0            0            0  \n",
       "1            0            0  "
      ]
     },
     "execution_count": 19,
     "metadata": {},
     "output_type": "execute_result"
    }
   ],
   "source": [
    "df.head(2)"
   ]
  },
  {
   "cell_type": "markdown",
   "metadata": {},
   "source": [
    "## Create your tables:"
   ]
  },
  {
   "cell_type": "code",
   "execution_count": 20,
   "metadata": {},
   "outputs": [
    {
     "data": {
      "text/plain": [
       "Index(['year', 'cname_send', 'main_posting', 'title', 'gender',\n",
       "       'cname_receive', 'ccode_send', 'ccodealp_send', 'ccodeCOW_send',\n",
       "       'region_send', 'GME_send', 'v2lgfemleg_send', 'FFP_send',\n",
       "       'ccode_receive', 'ccodealp_receive', 'ccodeCOW_receive',\n",
       "       'region_receive', 'GME_receive', 'FFP_receive'],\n",
       "      dtype='object')"
      ]
     },
     "execution_count": 20,
     "metadata": {},
     "output_type": "execute_result"
    }
   ],
   "source": [
    "df.columns"
   ]
  },
  {
   "cell_type": "code",
   "execution_count": 21,
   "metadata": {},
   "outputs": [
    {
     "data": {
      "text/plain": [
       "year                0\n",
       "cname_send          0\n",
       "main_posting        0\n",
       "title               0\n",
       "gender              0\n",
       "cname_receive       0\n",
       "ccode_send          0\n",
       "ccodealp_send       0\n",
       "ccodeCOW_send       0\n",
       "region_send         0\n",
       "GME_send            0\n",
       "v2lgfemleg_send     0\n",
       "FFP_send            0\n",
       "ccode_receive       0\n",
       "ccodealp_receive    0\n",
       "ccodeCOW_receive    0\n",
       "region_receive      0\n",
       "GME_receive         0\n",
       "FFP_receive         0\n",
       "dtype: int64"
      ]
     },
     "execution_count": 21,
     "metadata": {},
     "output_type": "execute_result"
    }
   ],
   "source": [
    "df.isna().sum()"
   ]
  },
  {
   "cell_type": "code",
   "execution_count": 24,
   "metadata": {},
   "outputs": [
    {
     "data": {
      "text/html": [
       "<div>\n",
       "<style scoped>\n",
       "    .dataframe tbody tr th:only-of-type {\n",
       "        vertical-align: middle;\n",
       "    }\n",
       "\n",
       "    .dataframe tbody tr th {\n",
       "        vertical-align: top;\n",
       "    }\n",
       "\n",
       "    .dataframe thead th {\n",
       "        text-align: right;\n",
       "    }\n",
       "</style>\n",
       "<table border=\"1\" class=\"dataframe\">\n",
       "  <thead>\n",
       "    <tr style=\"text-align: right;\">\n",
       "      <th></th>\n",
       "      <th>year</th>\n",
       "      <th>cname_send</th>\n",
       "      <th>main_posting</th>\n",
       "      <th>title</th>\n",
       "      <th>gender</th>\n",
       "      <th>cname_receive</th>\n",
       "      <th>ccode_send</th>\n",
       "      <th>ccodealp_send</th>\n",
       "      <th>ccodeCOW_send</th>\n",
       "      <th>region_send</th>\n",
       "      <th>GME_send</th>\n",
       "      <th>v2lgfemleg_send</th>\n",
       "      <th>FFP_send</th>\n",
       "      <th>ccode_receive</th>\n",
       "      <th>ccodealp_receive</th>\n",
       "      <th>ccodeCOW_receive</th>\n",
       "      <th>region_receive</th>\n",
       "      <th>GME_receive</th>\n",
       "      <th>FFP_receive</th>\n",
       "    </tr>\n",
       "  </thead>\n",
       "  <tbody>\n",
       "    <tr>\n",
       "      <th>0</th>\n",
       "      <td>1968</td>\n",
       "      <td>Afghanistan</td>\n",
       "      <td>1</td>\n",
       "      <td>3</td>\n",
       "      <td>0</td>\n",
       "      <td>China</td>\n",
       "      <td>4</td>\n",
       "      <td>AFG</td>\n",
       "      <td>700</td>\n",
       "      <td>1</td>\n",
       "      <td>1</td>\n",
       "      <td>2.0</td>\n",
       "      <td>0</td>\n",
       "      <td>156</td>\n",
       "      <td>CHN</td>\n",
       "      <td>710</td>\n",
       "      <td>1</td>\n",
       "      <td>0</td>\n",
       "      <td>0</td>\n",
       "    </tr>\n",
       "    <tr>\n",
       "      <th>1</th>\n",
       "      <td>1968</td>\n",
       "      <td>Afghanistan</td>\n",
       "      <td>1</td>\n",
       "      <td>3</td>\n",
       "      <td>0</td>\n",
       "      <td>Czechoslovakia</td>\n",
       "      <td>4</td>\n",
       "      <td>AFG</td>\n",
       "      <td>700</td>\n",
       "      <td>1</td>\n",
       "      <td>1</td>\n",
       "      <td>2.0</td>\n",
       "      <td>0</td>\n",
       "      <td>200</td>\n",
       "      <td>CSK</td>\n",
       "      <td>315</td>\n",
       "      <td>3</td>\n",
       "      <td>0</td>\n",
       "      <td>0</td>\n",
       "    </tr>\n",
       "  </tbody>\n",
       "</table>\n",
       "</div>"
      ],
      "text/plain": [
       "   year   cname_send  main_posting  title  gender   cname_receive  ccode_send  \\\n",
       "0  1968  Afghanistan             1      3       0           China           4   \n",
       "1  1968  Afghanistan             1      3       0  Czechoslovakia           4   \n",
       "\n",
       "  ccodealp_send  ccodeCOW_send  region_send  GME_send  v2lgfemleg_send  \\\n",
       "0          AFG             700            1         1              2.0   \n",
       "1          AFG             700            1         1              2.0   \n",
       "\n",
       "   FFP_send  ccode_receive ccodealp_receive  ccodeCOW_receive  region_receive  \\\n",
       "0         0            156             CHN                710               1   \n",
       "1         0            200              CSK               315               3   \n",
       "\n",
       "   GME_receive  FFP_receive  \n",
       "0            0            0  \n",
       "1            0            0  "
      ]
     },
     "execution_count": 24,
     "metadata": {},
     "output_type": "execute_result"
    }
   ],
   "source": [
    "df.head(2)"
   ]
  },
  {
   "cell_type": "code",
   "execution_count": 25,
   "metadata": {},
   "outputs": [],
   "source": [
    "create_table_query = \"\"\"\n",
    "CREATE TABLE IF NOT EXISTS gender_diplomacy (\n",
    "    year INT,\n",
    "    cname_send VARCHAR(255),\n",
    "    main_posting INT,\n",
    "    title INT,\n",
    "    gender INT,\n",
    "    cname_receive VARCHAR(255),\n",
    "    ccode_send INT,\n",
    "    ccodealp_send VARCHAR(255),\n",
    "    ccodeCOW_send INT,\n",
    "    region_send INT,\n",
    "    GME_send INT,\n",
    "    v2lgfemleg_send FLOAT,\n",
    "    FFP_send INT,\n",
    "    ccode_receive INT,\n",
    "    ccodealp_receive VARCHAR(255),\n",
    "    ccodeCOW_receive INT,\n",
    "    region_receive INT,\n",
    "    GME_receive INT,\n",
    "    FFP_receive INT\n",
    ");\n",
    "\"\"\""
   ]
  },
  {
   "cell_type": "code",
   "execution_count": 27,
   "metadata": {},
   "outputs": [],
   "source": [
    "connection.select_db(\"diplomacyDB\")\n",
    "connection.commit()"
   ]
  },
  {
   "cell_type": "code",
   "execution_count": 28,
   "metadata": {},
   "outputs": [],
   "source": [
    "cursor = connection.cursor()"
   ]
  },
  {
   "cell_type": "code",
   "execution_count": 29,
   "metadata": {},
   "outputs": [],
   "source": [
    "cursor.execute(create_table_query)\n",
    "connection.commit()"
   ]
  },
  {
   "cell_type": "markdown",
   "metadata": {},
   "source": [
    "<h3 style=\"color: #00BFFF;\">Insert the values</h3>"
   ]
  },
  {
   "cell_type": "code",
   "execution_count": 30,
   "metadata": {},
   "outputs": [],
   "source": [
    "columns = \", \".join(df.columns)\n",
    "placeholders = \", \".join([\"%s\"] * len(df.columns))"
   ]
  },
  {
   "cell_type": "code",
   "execution_count": 33,
   "metadata": {},
   "outputs": [],
   "source": [
    "insert_query = f\"\"\"\n",
    "INSERT INTO gender_diplomacy ({columns})\n",
    "VALUES ({placeholders})\n",
    "\"\"\"\n",
    "\n",
    "# Change the table name"
   ]
  },
  {
   "cell_type": "code",
   "execution_count": 35,
   "metadata": {},
   "outputs": [],
   "source": [
    "for _, row in df.iterrows():\n",
    "    cursor.execute(insert_query, tuple(row))\n",
    "connection.commit()"
   ]
  },
  {
   "cell_type": "code",
   "execution_count": 42,
   "metadata": {},
   "outputs": [
    {
     "data": {
      "text/plain": [
       "artist           0\n",
       "birth            0\n",
       "death            0\n",
       "nationality      0\n",
       "gender           0\n",
       "painting_date    0\n",
       "height           0\n",
       "width            0\n",
       "dtype: int64"
      ]
     },
     "execution_count": 42,
     "metadata": {},
     "output_type": "execute_result"
    }
   ],
   "source": [
    "df.isna().sum()"
   ]
  },
  {
   "cell_type": "code",
   "execution_count": 43,
   "metadata": {},
   "outputs": [
    {
     "data": {
      "text/plain": [
       "(77376, 8)"
      ]
     },
     "execution_count": 43,
     "metadata": {},
     "output_type": "execute_result"
    }
   ],
   "source": [
    "df.shape"
   ]
  }
 ],
 "metadata": {
  "kernelspec": {
   "display_name": "base",
   "language": "python",
   "name": "python3"
  },
  "language_info": {
   "codemirror_mode": {
    "name": "ipython",
    "version": 3
   },
   "file_extension": ".py",
   "mimetype": "text/x-python",
   "name": "python",
   "nbconvert_exporter": "python",
   "pygments_lexer": "ipython3",
   "version": "3.12.4"
  }
 },
 "nbformat": 4,
 "nbformat_minor": 2
}
