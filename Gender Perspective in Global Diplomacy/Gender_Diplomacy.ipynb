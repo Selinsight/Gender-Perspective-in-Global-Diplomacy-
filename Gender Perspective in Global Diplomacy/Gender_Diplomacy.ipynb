{
 "cells": [
  {
   "cell_type": "code",
   "execution_count": 1,
   "metadata": {},
   "outputs": [],
   "source": [
    "import pandas as pd"
   ]
  },
  {
   "cell_type": "code",
   "execution_count": 2,
   "metadata": {},
   "outputs": [],
   "source": [
    "df = pd.read_csv('/Users/selinwork/Documents/Ironhack/Ironhack_Week_3/Personal Project/gender_diplomacy.csv')"
   ]
  },
  {
   "cell_type": "code",
   "execution_count": 3,
   "metadata": {},
   "outputs": [
    {
     "data": {
      "text/html": [
       "<div>\n",
       "<style scoped>\n",
       "    .dataframe tbody tr th:only-of-type {\n",
       "        vertical-align: middle;\n",
       "    }\n",
       "\n",
       "    .dataframe tbody tr th {\n",
       "        vertical-align: top;\n",
       "    }\n",
       "\n",
       "    .dataframe thead th {\n",
       "        text-align: right;\n",
       "    }\n",
       "</style>\n",
       "<table border=\"1\" class=\"dataframe\">\n",
       "  <thead>\n",
       "    <tr style=\"text-align: right;\">\n",
       "      <th></th>\n",
       "      <th>year</th>\n",
       "      <th>cname_send</th>\n",
       "      <th>main_posting</th>\n",
       "      <th>title</th>\n",
       "      <th>gender</th>\n",
       "      <th>cname_receive</th>\n",
       "      <th>ccode_send</th>\n",
       "      <th>ccodealp_send</th>\n",
       "      <th>ccodeCOW_send</th>\n",
       "      <th>region_send</th>\n",
       "      <th>GME_send</th>\n",
       "      <th>v2lgfemleg_send</th>\n",
       "      <th>FFP_send</th>\n",
       "      <th>ccode_receive</th>\n",
       "      <th>ccodealp_receive</th>\n",
       "      <th>ccodeCOW_receive</th>\n",
       "      <th>region_receive</th>\n",
       "      <th>GME_receive</th>\n",
       "      <th>FFP_receive</th>\n",
       "    </tr>\n",
       "  </thead>\n",
       "  <tbody>\n",
       "    <tr>\n",
       "      <th>0</th>\n",
       "      <td>1968</td>\n",
       "      <td>Afghanistan</td>\n",
       "      <td>1</td>\n",
       "      <td>3</td>\n",
       "      <td>0</td>\n",
       "      <td>China</td>\n",
       "      <td>4</td>\n",
       "      <td>AFG</td>\n",
       "      <td>700</td>\n",
       "      <td>1</td>\n",
       "      <td>1</td>\n",
       "      <td>2.0</td>\n",
       "      <td>0</td>\n",
       "      <td>156</td>\n",
       "      <td>CHN</td>\n",
       "      <td>710</td>\n",
       "      <td>1</td>\n",
       "      <td>0</td>\n",
       "      <td>0</td>\n",
       "    </tr>\n",
       "    <tr>\n",
       "      <th>1</th>\n",
       "      <td>1968</td>\n",
       "      <td>Afghanistan</td>\n",
       "      <td>1</td>\n",
       "      <td>3</td>\n",
       "      <td>0</td>\n",
       "      <td>Czechoslovakia</td>\n",
       "      <td>4</td>\n",
       "      <td>AFG</td>\n",
       "      <td>700</td>\n",
       "      <td>1</td>\n",
       "      <td>1</td>\n",
       "      <td>2.0</td>\n",
       "      <td>0</td>\n",
       "      <td>200</td>\n",
       "      <td>CSK</td>\n",
       "      <td>315</td>\n",
       "      <td>3</td>\n",
       "      <td>0</td>\n",
       "      <td>0</td>\n",
       "    </tr>\n",
       "    <tr>\n",
       "      <th>2</th>\n",
       "      <td>1968</td>\n",
       "      <td>Afghanistan</td>\n",
       "      <td>1</td>\n",
       "      <td>3</td>\n",
       "      <td>0</td>\n",
       "      <td>Egypt</td>\n",
       "      <td>4</td>\n",
       "      <td>AFG</td>\n",
       "      <td>700</td>\n",
       "      <td>1</td>\n",
       "      <td>1</td>\n",
       "      <td>2.0</td>\n",
       "      <td>0</td>\n",
       "      <td>818</td>\n",
       "      <td>EGY</td>\n",
       "      <td>651</td>\n",
       "      <td>4</td>\n",
       "      <td>1</td>\n",
       "      <td>0</td>\n",
       "    </tr>\n",
       "    <tr>\n",
       "      <th>3</th>\n",
       "      <td>1968</td>\n",
       "      <td>Afghanistan</td>\n",
       "      <td>1</td>\n",
       "      <td>3</td>\n",
       "      <td>0</td>\n",
       "      <td>France</td>\n",
       "      <td>4</td>\n",
       "      <td>AFG</td>\n",
       "      <td>700</td>\n",
       "      <td>1</td>\n",
       "      <td>1</td>\n",
       "      <td>2.0</td>\n",
       "      <td>0</td>\n",
       "      <td>250</td>\n",
       "      <td>FRA</td>\n",
       "      <td>220</td>\n",
       "      <td>3</td>\n",
       "      <td>0</td>\n",
       "      <td>0</td>\n",
       "    </tr>\n",
       "    <tr>\n",
       "      <th>4</th>\n",
       "      <td>1968</td>\n",
       "      <td>Afghanistan</td>\n",
       "      <td>1</td>\n",
       "      <td>3</td>\n",
       "      <td>0</td>\n",
       "      <td>Germany, Federal Republic of</td>\n",
       "      <td>4</td>\n",
       "      <td>AFG</td>\n",
       "      <td>700</td>\n",
       "      <td>1</td>\n",
       "      <td>1</td>\n",
       "      <td>2.0</td>\n",
       "      <td>0</td>\n",
       "      <td>280</td>\n",
       "      <td>DEU</td>\n",
       "      <td>260</td>\n",
       "      <td>3</td>\n",
       "      <td>0</td>\n",
       "      <td>0</td>\n",
       "    </tr>\n",
       "  </tbody>\n",
       "</table>\n",
       "</div>"
      ],
      "text/plain": [
       "   year   cname_send  main_posting  title  gender  \\\n",
       "0  1968  Afghanistan             1      3       0   \n",
       "1  1968  Afghanistan             1      3       0   \n",
       "2  1968  Afghanistan             1      3       0   \n",
       "3  1968  Afghanistan             1      3       0   \n",
       "4  1968  Afghanistan             1      3       0   \n",
       "\n",
       "                  cname_receive  ccode_send ccodealp_send  ccodeCOW_send  \\\n",
       "0                         China           4          AFG             700   \n",
       "1                Czechoslovakia           4          AFG             700   \n",
       "2                         Egypt           4          AFG             700   \n",
       "3                        France           4          AFG             700   \n",
       "4  Germany, Federal Republic of           4          AFG             700   \n",
       "\n",
       "   region_send  GME_send  v2lgfemleg_send  FFP_send  ccode_receive  \\\n",
       "0            1         1              2.0         0            156   \n",
       "1            1         1              2.0         0            200   \n",
       "2            1         1              2.0         0            818   \n",
       "3            1         1              2.0         0            250   \n",
       "4            1         1              2.0         0            280   \n",
       "\n",
       "  ccodealp_receive  ccodeCOW_receive  region_receive  GME_receive  FFP_receive  \n",
       "0             CHN                710               1            0            0  \n",
       "1              CSK               315               3            0            0  \n",
       "2             EGY                651               4            1            0  \n",
       "3             FRA                220               3            0            0  \n",
       "4             DEU                260               3            0            0  "
      ]
     },
     "execution_count": 3,
     "metadata": {},
     "output_type": "execute_result"
    }
   ],
   "source": [
    "df.head()"
   ]
  },
  {
   "cell_type": "code",
   "execution_count": 4,
   "metadata": {},
   "outputs": [
    {
     "data": {
      "text/plain": [
       "array([1968, 1978, 1988, 1998, 2003, 2008, 2013, 2014, 2019, 2021])"
      ]
     },
     "execution_count": 4,
     "metadata": {},
     "output_type": "execute_result"
    }
   ],
   "source": [
    "df.year.unique()"
   ]
  },
  {
   "cell_type": "code",
   "execution_count": 5,
   "metadata": {},
   "outputs": [
    {
     "data": {
      "text/plain": [
       "array(['Afghanistan', 'Albania', 'Algeria', 'Andorra', 'Angola',\n",
       "       'Antigua and Barbuda', 'Argentina', 'Armenia', 'Australia',\n",
       "       'Austria', 'Azerbaijan', 'Bahamas', 'Bahrain', 'Bangladesh',\n",
       "       'Barbados', 'Belarus', 'Belgium', 'Belize', 'Benin', 'Bhutan',\n",
       "       'Bolivia, Plurinational State of', 'Bosnia and Herzegovina',\n",
       "       'Botswana', 'Brazil', 'Brunei Darussalam', 'Bulgaria',\n",
       "       'Burkina Faso', 'Burundi', 'Cabo Verde', 'Cambodia', 'Cameroon',\n",
       "       'Canada', 'Central African Empire', 'Central African Republic',\n",
       "       'Chad', 'Chile', 'China', 'Colombia', 'Comoros', 'Congo',\n",
       "       'Congo, Democratic Republic of the',\n",
       "       'Congo, Democratic Republic of the ', 'Costa Rica', 'Croatia',\n",
       "       'Cuba', 'Cyprus', 'Czechia', 'Czechoslovakia', \"Côte d'Ivoire\",\n",
       "       'Denmark', 'Djibouti', 'Dominica', 'Dominican Republic', 'Ecuador',\n",
       "       'Egypt', 'El Salvador', 'Equatorial Guinea', 'Eritrea', 'Estonia',\n",
       "       'Eswatini', 'Ethiopia', 'Faroe Islands', 'Fiji', 'Finland',\n",
       "       'France', 'Gabon', 'Gambia', 'Georgia',\n",
       "       'German Democratic Republic', 'Germany',\n",
       "       'Germany, Federal Republic of', 'Ghana', 'Greece', 'Grenada',\n",
       "       'Guatemala', 'Guinea', 'Guinea-Bissau', 'Guyana', 'Haiti',\n",
       "       'Holy See', 'Honduras', 'Hungary', 'Iceland', 'India', 'Indonesia',\n",
       "       'Iran, Islamic Republic of', 'Iraq', 'Ireland', 'Israel', 'Italy',\n",
       "       'Jamaica', 'Japan', 'Jordan', 'Kazakhstan', 'Kenya', 'Kiribati',\n",
       "       \"Korea, Democratic People's Republic of\", 'Korea, Republic of',\n",
       "       'Kosovo', 'Kuwait', 'Kyrgyzstan',\n",
       "       \"Lao People's Democratic Republic\", 'Latvia', 'Lebanon', 'Lesotho',\n",
       "       'Liberia', 'Libya', 'Liechtenstein', 'Lithuania', 'Luxembourg',\n",
       "       'Madagascar', 'Malawi', 'Malaysia', 'Maldives', 'Mali', 'Malta',\n",
       "       'Marshall Islands', 'Mauritania', 'Mauritius', 'Mexico',\n",
       "       'Micronesia, Federated States of', 'Moldova, Republic of',\n",
       "       'Monaco', 'Mongolia', 'Montenegro', 'Morocco', 'Mozambique',\n",
       "       'Myanmar', 'Namibia', 'Nauru', 'Nepal', 'Netherlands',\n",
       "       'New Zealand', 'Nicaragua', 'Niger', 'Nigeria', 'Niue',\n",
       "       'North Macedonia', 'Norway', 'Oman', 'Pakistan', 'Palau',\n",
       "       'Palestine, State of', 'Panama', 'Papua New Guinea', 'Paraguay',\n",
       "       'Peru', 'Philippines', 'Poland', 'Portugal', 'Qatar', 'Romania',\n",
       "       'Russian Federation', 'Rwanda', 'Saint Kitts and Nevis',\n",
       "       'Saint Lucia', 'Saint Vincent and the Grenadines', 'Samoa',\n",
       "       'San Marino', 'Sao Tome and Principe', 'Saudi Arabia', 'Senegal',\n",
       "       'Serbia', 'Serbia and Montenegro', 'Seychelles', 'Sierra Leone',\n",
       "       'Singapore', 'Slovakia', 'Slovenia', 'Solomon Islands', 'Somalia',\n",
       "       'South Africa', 'South Sudan', 'Spain', 'Sri Lanka', 'Sudan',\n",
       "       'Suriname', 'Sweden', 'Switzerland', 'Syrian Arab Republic',\n",
       "       'Taiwan, Province of China', 'Tajikistan',\n",
       "       'Tanzania, United Republic of', 'Thailand', 'Timor-Leste', 'Togo',\n",
       "       'Tonga', 'Trinidad and Tobago', 'Tunisia', 'Turkmenistan',\n",
       "       'Tuvalu', 'Türkiye', 'Uganda', 'Ukraine', 'United Arab Emirates',\n",
       "       'United Kingdom of Great Britain and Northern Ireland',\n",
       "       'United States of America', 'Uruguay', 'USSR', 'Uzbekistan',\n",
       "       'Vanuatu', 'Venezuela, Bolivarian Republic of', 'Viet Nam',\n",
       "       'Viet Nam, Democratic Republic of', 'Viet Nam, Republic of',\n",
       "       'Western Sahara', 'Yemen', 'Yemen, Arab Republic of',\n",
       "       \"Yemen, People's Democratic Republic of\", 'Yugoslavia', 'Zambia',\n",
       "       'Zimbabwe'], dtype=object)"
      ]
     },
     "execution_count": 5,
     "metadata": {},
     "output_type": "execute_result"
    }
   ],
   "source": [
    "df.cname_send.unique()    "
   ]
  },
  {
   "cell_type": "code",
   "execution_count": 6,
   "metadata": {},
   "outputs": [
    {
     "data": {
      "text/plain": [
       "array([ 1, 99,  0])"
      ]
     },
     "execution_count": 6,
     "metadata": {},
     "output_type": "execute_result"
    }
   ],
   "source": [
    "df.main_posting.unique()"
   ]
  },
  {
   "cell_type": "code",
   "execution_count": 7,
   "metadata": {},
   "outputs": [
    {
     "data": {
      "text/plain": [
       "array([ 3,  1, 99,  2, 96, 97, 98,  0])"
      ]
     },
     "execution_count": 7,
     "metadata": {},
     "output_type": "execute_result"
    }
   ],
   "source": [
    "df.title.unique()"
   ]
  },
  {
   "cell_type": "code",
   "execution_count": 8,
   "metadata": {},
   "outputs": [
    {
     "data": {
      "text/html": [
       "<div>\n",
       "<style scoped>\n",
       "    .dataframe tbody tr th:only-of-type {\n",
       "        vertical-align: middle;\n",
       "    }\n",
       "\n",
       "    .dataframe tbody tr th {\n",
       "        vertical-align: top;\n",
       "    }\n",
       "\n",
       "    .dataframe thead th {\n",
       "        text-align: right;\n",
       "    }\n",
       "</style>\n",
       "<table border=\"1\" class=\"dataframe\">\n",
       "  <thead>\n",
       "    <tr style=\"text-align: right;\">\n",
       "      <th></th>\n",
       "      <th>year</th>\n",
       "      <th>cname_send</th>\n",
       "      <th>main_posting</th>\n",
       "      <th>title</th>\n",
       "      <th>gender</th>\n",
       "      <th>cname_receive</th>\n",
       "      <th>ccode_send</th>\n",
       "      <th>ccodealp_send</th>\n",
       "      <th>ccodeCOW_send</th>\n",
       "      <th>region_send</th>\n",
       "      <th>GME_send</th>\n",
       "      <th>v2lgfemleg_send</th>\n",
       "      <th>FFP_send</th>\n",
       "      <th>ccode_receive</th>\n",
       "      <th>ccodealp_receive</th>\n",
       "      <th>ccodeCOW_receive</th>\n",
       "      <th>region_receive</th>\n",
       "      <th>GME_receive</th>\n",
       "      <th>FFP_receive</th>\n",
       "    </tr>\n",
       "  </thead>\n",
       "  <tbody>\n",
       "    <tr>\n",
       "      <th>26568</th>\n",
       "      <td>1998</td>\n",
       "      <td>Eritrea</td>\n",
       "      <td>1</td>\n",
       "      <td>3</td>\n",
       "      <td>0</td>\n",
       "      <td>Australia</td>\n",
       "      <td>232</td>\n",
       "      <td>ERI</td>\n",
       "      <td>531</td>\n",
       "      <td>0</td>\n",
       "      <td>0</td>\n",
       "      <td>21.00</td>\n",
       "      <td>0</td>\n",
       "      <td>36</td>\n",
       "      <td>AUS</td>\n",
       "      <td>900</td>\n",
       "      <td>6</td>\n",
       "      <td>0</td>\n",
       "      <td>0</td>\n",
       "    </tr>\n",
       "    <tr>\n",
       "      <th>74166</th>\n",
       "      <td>2021</td>\n",
       "      <td>Seychelles</td>\n",
       "      <td>0</td>\n",
       "      <td>1</td>\n",
       "      <td>0</td>\n",
       "      <td>Malta</td>\n",
       "      <td>690</td>\n",
       "      <td>SYC</td>\n",
       "      <td>591</td>\n",
       "      <td>0</td>\n",
       "      <td>0</td>\n",
       "      <td>22.86</td>\n",
       "      <td>0</td>\n",
       "      <td>470</td>\n",
       "      <td>MLT</td>\n",
       "      <td>338</td>\n",
       "      <td>3</td>\n",
       "      <td>0</td>\n",
       "      <td>0</td>\n",
       "    </tr>\n",
       "    <tr>\n",
       "      <th>51191</th>\n",
       "      <td>2014</td>\n",
       "      <td>Lesotho</td>\n",
       "      <td>1</td>\n",
       "      <td>3</td>\n",
       "      <td>0</td>\n",
       "      <td>Italy</td>\n",
       "      <td>426</td>\n",
       "      <td>LSO</td>\n",
       "      <td>570</td>\n",
       "      <td>0</td>\n",
       "      <td>0</td>\n",
       "      <td>26.67</td>\n",
       "      <td>0</td>\n",
       "      <td>380</td>\n",
       "      <td>ITA</td>\n",
       "      <td>325</td>\n",
       "      <td>3</td>\n",
       "      <td>0</td>\n",
       "      <td>0</td>\n",
       "    </tr>\n",
       "    <tr>\n",
       "      <th>8462</th>\n",
       "      <td>2019</td>\n",
       "      <td>Belize</td>\n",
       "      <td>0</td>\n",
       "      <td>3</td>\n",
       "      <td>1</td>\n",
       "      <td>Cuba</td>\n",
       "      <td>84</td>\n",
       "      <td>BLZ</td>\n",
       "      <td>80</td>\n",
       "      <td>2</td>\n",
       "      <td>0</td>\n",
       "      <td>9999.00</td>\n",
       "      <td>0</td>\n",
       "      <td>192</td>\n",
       "      <td>CUB</td>\n",
       "      <td>40</td>\n",
       "      <td>2</td>\n",
       "      <td>0</td>\n",
       "      <td>0</td>\n",
       "    </tr>\n",
       "    <tr>\n",
       "      <th>53844</th>\n",
       "      <td>2013</td>\n",
       "      <td>Malaysia</td>\n",
       "      <td>1</td>\n",
       "      <td>3</td>\n",
       "      <td>0</td>\n",
       "      <td>Pakistan</td>\n",
       "      <td>458</td>\n",
       "      <td>MYS</td>\n",
       "      <td>820</td>\n",
       "      <td>1</td>\n",
       "      <td>0</td>\n",
       "      <td>10.36</td>\n",
       "      <td>0</td>\n",
       "      <td>586</td>\n",
       "      <td>PAK</td>\n",
       "      <td>770</td>\n",
       "      <td>1</td>\n",
       "      <td>1</td>\n",
       "      <td>0</td>\n",
       "    </tr>\n",
       "    <tr>\n",
       "      <th>66540</th>\n",
       "      <td>2021</td>\n",
       "      <td>Peru</td>\n",
       "      <td>1</td>\n",
       "      <td>3</td>\n",
       "      <td>0</td>\n",
       "      <td>Venezuela, Bolivarian Republic of</td>\n",
       "      <td>604</td>\n",
       "      <td>PER</td>\n",
       "      <td>135</td>\n",
       "      <td>7</td>\n",
       "      <td>0</td>\n",
       "      <td>40.00</td>\n",
       "      <td>0</td>\n",
       "      <td>862</td>\n",
       "      <td>VEN</td>\n",
       "      <td>101</td>\n",
       "      <td>7</td>\n",
       "      <td>0</td>\n",
       "      <td>0</td>\n",
       "    </tr>\n",
       "    <tr>\n",
       "      <th>13240</th>\n",
       "      <td>1978</td>\n",
       "      <td>Canada</td>\n",
       "      <td>1</td>\n",
       "      <td>3</td>\n",
       "      <td>99</td>\n",
       "      <td>Israel</td>\n",
       "      <td>124</td>\n",
       "      <td>CAN</td>\n",
       "      <td>20</td>\n",
       "      <td>2</td>\n",
       "      <td>0</td>\n",
       "      <td>3.40</td>\n",
       "      <td>0</td>\n",
       "      <td>376</td>\n",
       "      <td>ISR</td>\n",
       "      <td>666</td>\n",
       "      <td>4</td>\n",
       "      <td>1</td>\n",
       "      <td>0</td>\n",
       "    </tr>\n",
       "    <tr>\n",
       "      <th>81262</th>\n",
       "      <td>2014</td>\n",
       "      <td>Switzerland</td>\n",
       "      <td>1</td>\n",
       "      <td>3</td>\n",
       "      <td>0</td>\n",
       "      <td>Philippines</td>\n",
       "      <td>756</td>\n",
       "      <td>CHE</td>\n",
       "      <td>225</td>\n",
       "      <td>3</td>\n",
       "      <td>0</td>\n",
       "      <td>30.50</td>\n",
       "      <td>0</td>\n",
       "      <td>608</td>\n",
       "      <td>PHL</td>\n",
       "      <td>840</td>\n",
       "      <td>1</td>\n",
       "      <td>0</td>\n",
       "      <td>0</td>\n",
       "    </tr>\n",
       "    <tr>\n",
       "      <th>33732</th>\n",
       "      <td>2008</td>\n",
       "      <td>Greece</td>\n",
       "      <td>1</td>\n",
       "      <td>3</td>\n",
       "      <td>0</td>\n",
       "      <td>Switzerland</td>\n",
       "      <td>300</td>\n",
       "      <td>GRC</td>\n",
       "      <td>350</td>\n",
       "      <td>3</td>\n",
       "      <td>0</td>\n",
       "      <td>16.00</td>\n",
       "      <td>0</td>\n",
       "      <td>756</td>\n",
       "      <td>CHE</td>\n",
       "      <td>225</td>\n",
       "      <td>3</td>\n",
       "      <td>0</td>\n",
       "      <td>0</td>\n",
       "    </tr>\n",
       "    <tr>\n",
       "      <th>19986</th>\n",
       "      <td>2019</td>\n",
       "      <td>Cuba</td>\n",
       "      <td>1</td>\n",
       "      <td>3</td>\n",
       "      <td>0</td>\n",
       "      <td>South Africa</td>\n",
       "      <td>192</td>\n",
       "      <td>CUB</td>\n",
       "      <td>40</td>\n",
       "      <td>2</td>\n",
       "      <td>0</td>\n",
       "      <td>53.22</td>\n",
       "      <td>0</td>\n",
       "      <td>710</td>\n",
       "      <td>ZAF</td>\n",
       "      <td>560</td>\n",
       "      <td>0</td>\n",
       "      <td>0</td>\n",
       "      <td>0</td>\n",
       "    </tr>\n",
       "  </tbody>\n",
       "</table>\n",
       "</div>"
      ],
      "text/plain": [
       "       year   cname_send  main_posting  title  gender  \\\n",
       "26568  1998      Eritrea             1      3       0   \n",
       "74166  2021   Seychelles             0      1       0   \n",
       "51191  2014      Lesotho             1      3       0   \n",
       "8462   2019       Belize             0      3       1   \n",
       "53844  2013     Malaysia             1      3       0   \n",
       "66540  2021         Peru             1      3       0   \n",
       "13240  1978       Canada             1      3      99   \n",
       "81262  2014  Switzerland             1      3       0   \n",
       "33732  2008       Greece             1      3       0   \n",
       "19986  2019         Cuba             1      3       0   \n",
       "\n",
       "                           cname_receive  ccode_send ccodealp_send  \\\n",
       "26568                          Australia         232          ERI    \n",
       "74166                              Malta         690          SYC    \n",
       "51191                              Italy         426           LSO   \n",
       "8462                                Cuba          84           BLZ   \n",
       "53844                           Pakistan         458           MYS   \n",
       "66540  Venezuela, Bolivarian Republic of         604          PER    \n",
       "13240                             Israel         124           CAN   \n",
       "81262                        Philippines         756           CHE   \n",
       "33732                        Switzerland         300          GRC    \n",
       "19986                       South Africa         192           CUB   \n",
       "\n",
       "       ccodeCOW_send  region_send  GME_send  v2lgfemleg_send  FFP_send  \\\n",
       "26568            531            0         0            21.00         0   \n",
       "74166            591            0         0            22.86         0   \n",
       "51191            570            0         0            26.67         0   \n",
       "8462              80            2         0          9999.00         0   \n",
       "53844            820            1         0            10.36         0   \n",
       "66540            135            7         0            40.00         0   \n",
       "13240             20            2         0             3.40         0   \n",
       "81262            225            3         0            30.50         0   \n",
       "33732            350            3         0            16.00         0   \n",
       "19986             40            2         0            53.22         0   \n",
       "\n",
       "       ccode_receive ccodealp_receive  ccodeCOW_receive  region_receive  \\\n",
       "26568             36              AUS               900               6   \n",
       "74166            470             MLT                338               3   \n",
       "51191            380              ITA               325               3   \n",
       "8462             192             CUB                 40               2   \n",
       "53844            586             PAK                770               1   \n",
       "66540            862              VEN               101               7   \n",
       "13240            376              ISR               666               4   \n",
       "81262            608              PHL               840               1   \n",
       "33732            756              CHE               225               3   \n",
       "19986            710              ZAF               560               0   \n",
       "\n",
       "       GME_receive  FFP_receive  \n",
       "26568            0            0  \n",
       "74166            0            0  \n",
       "51191            0            0  \n",
       "8462             0            0  \n",
       "53844            1            0  \n",
       "66540            0            0  \n",
       "13240            1            0  \n",
       "81262            0            0  \n",
       "33732            0            0  \n",
       "19986            0            0  "
      ]
     },
     "execution_count": 8,
     "metadata": {},
     "output_type": "execute_result"
    }
   ],
   "source": [
    "df.sample(10)"
   ]
  },
  {
   "cell_type": "code",
   "execution_count": 9,
   "metadata": {},
   "outputs": [
    {
     "data": {
      "text/plain": [
       "array([1, 3, 0, 2, 7, 6, 4, 5])"
      ]
     },
     "execution_count": 9,
     "metadata": {},
     "output_type": "execute_result"
    }
   ],
   "source": [
    "df.region_send.unique()"
   ]
  },
  {
   "cell_type": "code",
   "execution_count": 10,
   "metadata": {},
   "outputs": [
    {
     "data": {
      "text/plain": [
       "region_send\n",
       "3    29436\n",
       "0    17512\n",
       "1    16607\n",
       "4     9339\n",
       "2     8506\n",
       "7     6685\n",
       "5     4024\n",
       "6     2400\n",
       "Name: count, dtype: int64"
      ]
     },
     "execution_count": 10,
     "metadata": {},
     "output_type": "execute_result"
    }
   ],
   "source": [
    "df.region_send.value_counts()"
   ]
  },
  {
   "cell_type": "code",
   "execution_count": 11,
   "metadata": {},
   "outputs": [
    {
     "data": {
      "text/plain": [
       "region_receive\n",
       "3       27332\n",
       "0       19220\n",
       "1       16254\n",
       "4        9623\n",
       "2        9534\n",
       "7        6240\n",
       "5        3615\n",
       "6        2686\n",
       "9999        5\n",
       "Name: count, dtype: int64"
      ]
     },
     "execution_count": 11,
     "metadata": {},
     "output_type": "execute_result"
    }
   ],
   "source": [
    "df.region_receive.value_counts()"
   ]
  },
  {
   "cell_type": "code",
   "execution_count": 12,
   "metadata": {},
   "outputs": [
    {
     "data": {
      "text/plain": [
       "title\n",
       "3     89258\n",
       "1      3750\n",
       "99      957\n",
       "96      262\n",
       "98      104\n",
       "2        89\n",
       "97       84\n",
       "0         5\n",
       "Name: count, dtype: int64"
      ]
     },
     "execution_count": 12,
     "metadata": {},
     "output_type": "execute_result"
    }
   ],
   "source": [
    "df.title.value_counts()"
   ]
  },
  {
   "cell_type": "code",
   "execution_count": 13,
   "metadata": {},
   "outputs": [
    {
     "data": {
      "text/html": [
       "<div>\n",
       "<style scoped>\n",
       "    .dataframe tbody tr th:only-of-type {\n",
       "        vertical-align: middle;\n",
       "    }\n",
       "\n",
       "    .dataframe tbody tr th {\n",
       "        vertical-align: top;\n",
       "    }\n",
       "\n",
       "    .dataframe thead th {\n",
       "        text-align: right;\n",
       "    }\n",
       "</style>\n",
       "<table border=\"1\" class=\"dataframe\">\n",
       "  <thead>\n",
       "    <tr style=\"text-align: right;\">\n",
       "      <th></th>\n",
       "      <th>year</th>\n",
       "      <th>cname_send</th>\n",
       "      <th>main_posting</th>\n",
       "      <th>title</th>\n",
       "      <th>gender</th>\n",
       "      <th>cname_receive</th>\n",
       "      <th>ccodeCOW_send</th>\n",
       "      <th>region_send</th>\n",
       "      <th>GME_send</th>\n",
       "      <th>v2lgfemleg_send</th>\n",
       "      <th>FFP_send</th>\n",
       "      <th>ccodeCOW_receive</th>\n",
       "      <th>region_receive</th>\n",
       "      <th>GME_receive</th>\n",
       "      <th>FFP_receive</th>\n",
       "    </tr>\n",
       "  </thead>\n",
       "  <tbody>\n",
       "    <tr>\n",
       "      <th>0</th>\n",
       "      <td>1968</td>\n",
       "      <td>Afghanistan</td>\n",
       "      <td>1</td>\n",
       "      <td>3</td>\n",
       "      <td>0</td>\n",
       "      <td>China</td>\n",
       "      <td>700</td>\n",
       "      <td>1</td>\n",
       "      <td>1</td>\n",
       "      <td>2.0</td>\n",
       "      <td>0</td>\n",
       "      <td>710</td>\n",
       "      <td>1</td>\n",
       "      <td>0</td>\n",
       "      <td>0</td>\n",
       "    </tr>\n",
       "    <tr>\n",
       "      <th>1</th>\n",
       "      <td>1968</td>\n",
       "      <td>Afghanistan</td>\n",
       "      <td>1</td>\n",
       "      <td>3</td>\n",
       "      <td>0</td>\n",
       "      <td>Czechoslovakia</td>\n",
       "      <td>700</td>\n",
       "      <td>1</td>\n",
       "      <td>1</td>\n",
       "      <td>2.0</td>\n",
       "      <td>0</td>\n",
       "      <td>315</td>\n",
       "      <td>3</td>\n",
       "      <td>0</td>\n",
       "      <td>0</td>\n",
       "    </tr>\n",
       "    <tr>\n",
       "      <th>2</th>\n",
       "      <td>1968</td>\n",
       "      <td>Afghanistan</td>\n",
       "      <td>1</td>\n",
       "      <td>3</td>\n",
       "      <td>0</td>\n",
       "      <td>Egypt</td>\n",
       "      <td>700</td>\n",
       "      <td>1</td>\n",
       "      <td>1</td>\n",
       "      <td>2.0</td>\n",
       "      <td>0</td>\n",
       "      <td>651</td>\n",
       "      <td>4</td>\n",
       "      <td>1</td>\n",
       "      <td>0</td>\n",
       "    </tr>\n",
       "    <tr>\n",
       "      <th>3</th>\n",
       "      <td>1968</td>\n",
       "      <td>Afghanistan</td>\n",
       "      <td>1</td>\n",
       "      <td>3</td>\n",
       "      <td>0</td>\n",
       "      <td>France</td>\n",
       "      <td>700</td>\n",
       "      <td>1</td>\n",
       "      <td>1</td>\n",
       "      <td>2.0</td>\n",
       "      <td>0</td>\n",
       "      <td>220</td>\n",
       "      <td>3</td>\n",
       "      <td>0</td>\n",
       "      <td>0</td>\n",
       "    </tr>\n",
       "    <tr>\n",
       "      <th>4</th>\n",
       "      <td>1968</td>\n",
       "      <td>Afghanistan</td>\n",
       "      <td>1</td>\n",
       "      <td>3</td>\n",
       "      <td>0</td>\n",
       "      <td>Germany, Federal Republic of</td>\n",
       "      <td>700</td>\n",
       "      <td>1</td>\n",
       "      <td>1</td>\n",
       "      <td>2.0</td>\n",
       "      <td>0</td>\n",
       "      <td>260</td>\n",
       "      <td>3</td>\n",
       "      <td>0</td>\n",
       "      <td>0</td>\n",
       "    </tr>\n",
       "    <tr>\n",
       "      <th>...</th>\n",
       "      <td>...</td>\n",
       "      <td>...</td>\n",
       "      <td>...</td>\n",
       "      <td>...</td>\n",
       "      <td>...</td>\n",
       "      <td>...</td>\n",
       "      <td>...</td>\n",
       "      <td>...</td>\n",
       "      <td>...</td>\n",
       "      <td>...</td>\n",
       "      <td>...</td>\n",
       "      <td>...</td>\n",
       "      <td>...</td>\n",
       "      <td>...</td>\n",
       "      <td>...</td>\n",
       "    </tr>\n",
       "    <tr>\n",
       "      <th>94504</th>\n",
       "      <td>2021</td>\n",
       "      <td>Zimbabwe</td>\n",
       "      <td>0</td>\n",
       "      <td>1</td>\n",
       "      <td>0</td>\n",
       "      <td>Thailand</td>\n",
       "      <td>552</td>\n",
       "      <td>0</td>\n",
       "      <td>0</td>\n",
       "      <td>9999.0</td>\n",
       "      <td>0</td>\n",
       "      <td>800</td>\n",
       "      <td>1</td>\n",
       "      <td>0</td>\n",
       "      <td>0</td>\n",
       "    </tr>\n",
       "    <tr>\n",
       "      <th>94505</th>\n",
       "      <td>2021</td>\n",
       "      <td>Zimbabwe</td>\n",
       "      <td>1</td>\n",
       "      <td>3</td>\n",
       "      <td>0</td>\n",
       "      <td>United Kingdom of Great Britain and Northern I...</td>\n",
       "      <td>552</td>\n",
       "      <td>0</td>\n",
       "      <td>0</td>\n",
       "      <td>9999.0</td>\n",
       "      <td>0</td>\n",
       "      <td>200</td>\n",
       "      <td>3</td>\n",
       "      <td>0</td>\n",
       "      <td>0</td>\n",
       "    </tr>\n",
       "    <tr>\n",
       "      <th>94506</th>\n",
       "      <td>2021</td>\n",
       "      <td>Zimbabwe</td>\n",
       "      <td>1</td>\n",
       "      <td>3</td>\n",
       "      <td>0</td>\n",
       "      <td>United States of America</td>\n",
       "      <td>552</td>\n",
       "      <td>0</td>\n",
       "      <td>0</td>\n",
       "      <td>9999.0</td>\n",
       "      <td>0</td>\n",
       "      <td>2</td>\n",
       "      <td>2</td>\n",
       "      <td>0</td>\n",
       "      <td>0</td>\n",
       "    </tr>\n",
       "    <tr>\n",
       "      <th>94507</th>\n",
       "      <td>2021</td>\n",
       "      <td>Zimbabwe</td>\n",
       "      <td>0</td>\n",
       "      <td>3</td>\n",
       "      <td>0</td>\n",
       "      <td>Uruguay</td>\n",
       "      <td>552</td>\n",
       "      <td>0</td>\n",
       "      <td>0</td>\n",
       "      <td>9999.0</td>\n",
       "      <td>0</td>\n",
       "      <td>165</td>\n",
       "      <td>7</td>\n",
       "      <td>0</td>\n",
       "      <td>0</td>\n",
       "    </tr>\n",
       "    <tr>\n",
       "      <th>94508</th>\n",
       "      <td>2021</td>\n",
       "      <td>Zimbabwe</td>\n",
       "      <td>1</td>\n",
       "      <td>3</td>\n",
       "      <td>1</td>\n",
       "      <td>Zambia</td>\n",
       "      <td>552</td>\n",
       "      <td>0</td>\n",
       "      <td>0</td>\n",
       "      <td>9999.0</td>\n",
       "      <td>0</td>\n",
       "      <td>551</td>\n",
       "      <td>0</td>\n",
       "      <td>0</td>\n",
       "      <td>0</td>\n",
       "    </tr>\n",
       "  </tbody>\n",
       "</table>\n",
       "<p>94509 rows × 15 columns</p>\n",
       "</div>"
      ],
      "text/plain": [
       "       year   cname_send  main_posting  title  gender  \\\n",
       "0      1968  Afghanistan             1      3       0   \n",
       "1      1968  Afghanistan             1      3       0   \n",
       "2      1968  Afghanistan             1      3       0   \n",
       "3      1968  Afghanistan             1      3       0   \n",
       "4      1968  Afghanistan             1      3       0   \n",
       "...     ...          ...           ...    ...     ...   \n",
       "94504  2021     Zimbabwe             0      1       0   \n",
       "94505  2021     Zimbabwe             1      3       0   \n",
       "94506  2021     Zimbabwe             1      3       0   \n",
       "94507  2021     Zimbabwe             0      3       0   \n",
       "94508  2021     Zimbabwe             1      3       1   \n",
       "\n",
       "                                           cname_receive  ccodeCOW_send  \\\n",
       "0                                                  China            700   \n",
       "1                                         Czechoslovakia            700   \n",
       "2                                                  Egypt            700   \n",
       "3                                                 France            700   \n",
       "4                           Germany, Federal Republic of            700   \n",
       "...                                                  ...            ...   \n",
       "94504                                           Thailand            552   \n",
       "94505  United Kingdom of Great Britain and Northern I...            552   \n",
       "94506                           United States of America            552   \n",
       "94507                                            Uruguay            552   \n",
       "94508                                             Zambia            552   \n",
       "\n",
       "       region_send  GME_send  v2lgfemleg_send  FFP_send  ccodeCOW_receive  \\\n",
       "0                1         1              2.0         0               710   \n",
       "1                1         1              2.0         0               315   \n",
       "2                1         1              2.0         0               651   \n",
       "3                1         1              2.0         0               220   \n",
       "4                1         1              2.0         0               260   \n",
       "...            ...       ...              ...       ...               ...   \n",
       "94504            0         0           9999.0         0               800   \n",
       "94505            0         0           9999.0         0               200   \n",
       "94506            0         0           9999.0         0                 2   \n",
       "94507            0         0           9999.0         0               165   \n",
       "94508            0         0           9999.0         0               551   \n",
       "\n",
       "       region_receive  GME_receive  FFP_receive  \n",
       "0                   1            0            0  \n",
       "1                   3            0            0  \n",
       "2                   4            1            0  \n",
       "3                   3            0            0  \n",
       "4                   3            0            0  \n",
       "...               ...          ...          ...  \n",
       "94504               1            0            0  \n",
       "94505               3            0            0  \n",
       "94506               2            0            0  \n",
       "94507               7            0            0  \n",
       "94508               0            0            0  \n",
       "\n",
       "[94509 rows x 15 columns]"
      ]
     },
     "execution_count": 13,
     "metadata": {},
     "output_type": "execute_result"
    }
   ],
   "source": [
    "df = df.drop([\"ccode_send\", \"ccodealp_send\", \"ccode_receive\", \"ccodealp_receive\"], axis=1)\n",
    "df"
   ]
  },
  {
   "cell_type": "code",
   "execution_count": 14,
   "metadata": {},
   "outputs": [
    {
     "data": {
      "text/plain": [
       "17.472545757071547"
      ]
     },
     "execution_count": 14,
     "metadata": {},
     "output_type": "execute_result"
    }
   ],
   "source": [
    "len(df) / df.gender.eq(99).sum() "
   ]
  },
  {
   "cell_type": "code",
   "execution_count": 15,
   "metadata": {},
   "outputs": [
    {
     "data": {
      "text/plain": [
       "5409"
      ]
     },
     "execution_count": 15,
     "metadata": {},
     "output_type": "execute_result"
    }
   ],
   "source": [
    "df.gender.eq(99).sum()"
   ]
  },
  {
   "cell_type": "code",
   "execution_count": 16,
   "metadata": {},
   "outputs": [
    {
     "data": {
      "text/plain": [
       "94506"
      ]
     },
     "execution_count": 16,
     "metadata": {},
     "output_type": "execute_result"
    }
   ],
   "source": [
    "df.duplicated(subset=[\"gender\"]).sum()"
   ]
  },
  {
   "cell_type": "code",
   "execution_count": 17,
   "metadata": {},
   "outputs": [],
   "source": [
    "subset = df[df['gender'] != 99]"
   ]
  },
  {
   "cell_type": "code",
   "execution_count": 18,
   "metadata": {},
   "outputs": [
    {
     "data": {
      "text/plain": [
       "gender\n",
       "0    76779\n",
       "1    12321\n",
       "Name: count, dtype: int64"
      ]
     },
     "execution_count": 18,
     "metadata": {},
     "output_type": "execute_result"
    }
   ],
   "source": [
    "subset.gender.value_counts()"
   ]
  },
  {
   "cell_type": "code",
   "execution_count": 19,
   "metadata": {},
   "outputs": [],
   "source": [
    "gender_encoded = {1: \"female\", 0: \"male\"}"
   ]
  },
  {
   "cell_type": "code",
   "execution_count": 20,
   "metadata": {},
   "outputs": [
    {
     "name": "stderr",
     "output_type": "stream",
     "text": [
      "/var/folders/rp/xh3vdlq17n94q_y2mld23x5r0000gn/T/ipykernel_5958/2034929130.py:1: SettingWithCopyWarning: \n",
      "A value is trying to be set on a copy of a slice from a DataFrame.\n",
      "Try using .loc[row_indexer,col_indexer] = value instead\n",
      "\n",
      "See the caveats in the documentation: https://pandas.pydata.org/pandas-docs/stable/user_guide/indexing.html#returning-a-view-versus-a-copy\n",
      "  subset[\"gender\"] = subset[\"gender\"].map(gender_encoded)\n"
     ]
    }
   ],
   "source": [
    "subset[\"gender\"] = subset[\"gender\"].map(gender_encoded)"
   ]
  },
  {
   "cell_type": "code",
   "execution_count": 21,
   "metadata": {},
   "outputs": [
    {
     "data": {
      "text/plain": [
       "gender\n",
       "male      76779\n",
       "female    12321\n",
       "Name: count, dtype: int64"
      ]
     },
     "execution_count": 21,
     "metadata": {},
     "output_type": "execute_result"
    }
   ],
   "source": [
    "subset.gender.value_counts()"
   ]
  },
  {
   "cell_type": "code",
   "execution_count": 22,
   "metadata": {},
   "outputs": [
    {
     "data": {
      "text/plain": [
       "5409"
      ]
     },
     "execution_count": 22,
     "metadata": {},
     "output_type": "execute_result"
    }
   ],
   "source": [
    "len(df) - len(subset)"
   ]
  },
  {
   "cell_type": "code",
   "execution_count": 23,
   "metadata": {},
   "outputs": [
    {
     "data": {
      "text/plain": [
       "89100"
      ]
     },
     "execution_count": 23,
     "metadata": {},
     "output_type": "execute_result"
    }
   ],
   "source": [
    "len(subset)"
   ]
  },
  {
   "cell_type": "code",
   "execution_count": 24,
   "metadata": {},
   "outputs": [],
   "source": [
    "subset.to_excel(\"clean_tablau.xlsx\", index=False)"
   ]
  },
  {
   "cell_type": "code",
   "execution_count": 25,
   "metadata": {},
   "outputs": [
    {
     "data": {
      "text/html": [
       "<div>\n",
       "<style scoped>\n",
       "    .dataframe tbody tr th:only-of-type {\n",
       "        vertical-align: middle;\n",
       "    }\n",
       "\n",
       "    .dataframe tbody tr th {\n",
       "        vertical-align: top;\n",
       "    }\n",
       "\n",
       "    .dataframe thead th {\n",
       "        text-align: right;\n",
       "    }\n",
       "</style>\n",
       "<table border=\"1\" class=\"dataframe\">\n",
       "  <thead>\n",
       "    <tr style=\"text-align: right;\">\n",
       "      <th>gender</th>\n",
       "      <th>female</th>\n",
       "      <th>male</th>\n",
       "    </tr>\n",
       "    <tr>\n",
       "      <th>year</th>\n",
       "      <th></th>\n",
       "      <th></th>\n",
       "    </tr>\n",
       "  </thead>\n",
       "  <tbody>\n",
       "    <tr>\n",
       "      <th>1968</th>\n",
       "      <td>29</td>\n",
       "      <td>3136</td>\n",
       "    </tr>\n",
       "    <tr>\n",
       "      <th>1978</th>\n",
       "      <td>81</td>\n",
       "      <td>4593</td>\n",
       "    </tr>\n",
       "    <tr>\n",
       "      <th>1988</th>\n",
       "      <td>162</td>\n",
       "      <td>5762</td>\n",
       "    </tr>\n",
       "    <tr>\n",
       "      <th>1998</th>\n",
       "      <td>413</td>\n",
       "      <td>6576</td>\n",
       "    </tr>\n",
       "    <tr>\n",
       "      <th>2003</th>\n",
       "      <td>674</td>\n",
       "      <td>6908</td>\n",
       "    </tr>\n",
       "    <tr>\n",
       "      <th>2008</th>\n",
       "      <td>964</td>\n",
       "      <td>7232</td>\n",
       "    </tr>\n",
       "    <tr>\n",
       "      <th>2013</th>\n",
       "      <td>1184</td>\n",
       "      <td>6885</td>\n",
       "    </tr>\n",
       "    <tr>\n",
       "      <th>2014</th>\n",
       "      <td>2340</td>\n",
       "      <td>12224</td>\n",
       "    </tr>\n",
       "    <tr>\n",
       "      <th>2019</th>\n",
       "      <td>2992</td>\n",
       "      <td>11480</td>\n",
       "    </tr>\n",
       "    <tr>\n",
       "      <th>2021</th>\n",
       "      <td>3482</td>\n",
       "      <td>11983</td>\n",
       "    </tr>\n",
       "  </tbody>\n",
       "</table>\n",
       "</div>"
      ],
      "text/plain": [
       "gender  female   male\n",
       "year                 \n",
       "1968        29   3136\n",
       "1978        81   4593\n",
       "1988       162   5762\n",
       "1998       413   6576\n",
       "2003       674   6908\n",
       "2008       964   7232\n",
       "2013      1184   6885\n",
       "2014      2340  12224\n",
       "2019      2992  11480\n",
       "2021      3482  11983"
      ]
     },
     "execution_count": 25,
     "metadata": {},
     "output_type": "execute_result"
    }
   ],
   "source": [
    "gender_counts =subset.groupby(['year', 'gender']).size().unstack()\n",
    "gender_counts"
   ]
  },
  {
   "cell_type": "code",
   "execution_count": 26,
   "metadata": {},
   "outputs": [
    {
     "name": "stdout",
     "output_type": "stream",
     "text": [
      "gender  female   male\n",
      "year                 \n",
      "1968      0.92  99.08\n",
      "1978      1.73  98.27\n",
      "1988      2.73  97.27\n",
      "1998      5.91  94.09\n",
      "2003      8.89  91.11\n",
      "2008     11.76  88.24\n",
      "2013     14.67  85.33\n",
      "2014     16.07  83.93\n",
      "2019     20.67  79.33\n",
      "2021     22.52  77.48\n"
     ]
    }
   ],
   "source": [
    "# 1. What is the percentage of male vs female diplomats globally from 1968 to 2021\n",
    "\n",
    "\n",
    "# Calculate the percentage for each gender\n",
    "gender_counts_percentage = round(gender_counts.apply(lambda x: x / x.sum() * 100, axis=1),2)\n",
    "\n",
    "# Display the counts\n",
    "print(gender_counts_percentage)\n",
    "\n"
   ]
  },
  {
   "cell_type": "code",
   "execution_count": 27,
   "metadata": {},
   "outputs": [
    {
     "data": {
      "image/png": "[encoded data removed]",
      "text/plain": [
       "<Figure size 1000x600 with 1 Axes>"
      ]
     },
     "metadata": {},
     "output_type": "display_data"
    }
   ],
   "source": [
    "import matplotlib.pyplot as plt\n",
    "\n",
    "# Plot the gender_counts_percentage as a line chart\n",
    "gender_counts_percentage.plot(kind='line', figsize=(10, 6))\n",
    "\n",
    "# Add title and labels\n",
    "plt.title('Percentage of Male vs Female Diplomats Over Time')\n",
    "plt.xlabel('Year')\n",
    "plt.ylabel('Percentage')\n",
    "\n",
    "# Display the plot\n",
    "plt.show()"
   ]
  },
  {
   "cell_type": "code",
   "execution_count": 28,
   "metadata": {},
   "outputs": [
    {
     "data": {
      "text/html": [
       "<div>\n",
       "<style scoped>\n",
       "    .dataframe tbody tr th:only-of-type {\n",
       "        vertical-align: middle;\n",
       "    }\n",
       "\n",
       "    .dataframe tbody tr th {\n",
       "        vertical-align: top;\n",
       "    }\n",
       "\n",
       "    .dataframe thead th {\n",
       "        text-align: right;\n",
       "    }\n",
       "</style>\n",
       "<table border=\"1\" class=\"dataframe\">\n",
       "  <thead>\n",
       "    <tr style=\"text-align: right;\">\n",
       "      <th>gender</th>\n",
       "      <th>female</th>\n",
       "      <th>male</th>\n",
       "      <th>female</th>\n",
       "      <th>male</th>\n",
       "    </tr>\n",
       "    <tr>\n",
       "      <th>year</th>\n",
       "      <th></th>\n",
       "      <th></th>\n",
       "      <th></th>\n",
       "      <th></th>\n",
       "    </tr>\n",
       "  </thead>\n",
       "  <tbody>\n",
       "    <tr>\n",
       "      <th>1968</th>\n",
       "      <td>29</td>\n",
       "      <td>3136</td>\n",
       "      <td>0.92</td>\n",
       "      <td>99.08</td>\n",
       "    </tr>\n",
       "    <tr>\n",
       "      <th>1978</th>\n",
       "      <td>81</td>\n",
       "      <td>4593</td>\n",
       "      <td>1.73</td>\n",
       "      <td>98.27</td>\n",
       "    </tr>\n",
       "    <tr>\n",
       "      <th>1988</th>\n",
       "      <td>162</td>\n",
       "      <td>5762</td>\n",
       "      <td>2.73</td>\n",
       "      <td>97.27</td>\n",
       "    </tr>\n",
       "    <tr>\n",
       "      <th>1998</th>\n",
       "      <td>413</td>\n",
       "      <td>6576</td>\n",
       "      <td>5.91</td>\n",
       "      <td>94.09</td>\n",
       "    </tr>\n",
       "    <tr>\n",
       "      <th>2003</th>\n",
       "      <td>674</td>\n",
       "      <td>6908</td>\n",
       "      <td>8.89</td>\n",
       "      <td>91.11</td>\n",
       "    </tr>\n",
       "    <tr>\n",
       "      <th>2008</th>\n",
       "      <td>964</td>\n",
       "      <td>7232</td>\n",
       "      <td>11.76</td>\n",
       "      <td>88.24</td>\n",
       "    </tr>\n",
       "    <tr>\n",
       "      <th>2013</th>\n",
       "      <td>1184</td>\n",
       "      <td>6885</td>\n",
       "      <td>14.67</td>\n",
       "      <td>85.33</td>\n",
       "    </tr>\n",
       "    <tr>\n",
       "      <th>2014</th>\n",
       "      <td>2340</td>\n",
       "      <td>12224</td>\n",
       "      <td>16.07</td>\n",
       "      <td>83.93</td>\n",
       "    </tr>\n",
       "    <tr>\n",
       "      <th>2019</th>\n",
       "      <td>2992</td>\n",
       "      <td>11480</td>\n",
       "      <td>20.67</td>\n",
       "      <td>79.33</td>\n",
       "    </tr>\n",
       "    <tr>\n",
       "      <th>2021</th>\n",
       "      <td>3482</td>\n",
       "      <td>11983</td>\n",
       "      <td>22.52</td>\n",
       "      <td>77.48</td>\n",
       "    </tr>\n",
       "  </tbody>\n",
       "</table>\n",
       "</div>"
      ],
      "text/plain": [
       "gender  female   male  female   male\n",
       "year                                \n",
       "1968        29   3136    0.92  99.08\n",
       "1978        81   4593    1.73  98.27\n",
       "1988       162   5762    2.73  97.27\n",
       "1998       413   6576    5.91  94.09\n",
       "2003       674   6908    8.89  91.11\n",
       "2008       964   7232   11.76  88.24\n",
       "2013      1184   6885   14.67  85.33\n",
       "2014      2340  12224   16.07  83.93\n",
       "2019      2992  11480   20.67  79.33\n",
       "2021      3482  11983   22.52  77.48"
      ]
     },
     "execution_count": 28,
     "metadata": {},
     "output_type": "execute_result"
    }
   ],
   "source": [
    "df_merge_gender_population = pd.concat([gender_counts,gender_counts_percentage], axis=1)\n",
    "df_merge_gender_population"
   ]
  },
  {
   "cell_type": "code",
   "execution_count": 29,
   "metadata": {},
   "outputs": [
    {
     "name": "stderr",
     "output_type": "stream",
     "text": [
      "/var/folders/rp/xh3vdlq17n94q_y2mld23x5r0000gn/T/ipykernel_5958/1709066180.py:9: SettingWithCopyWarning: \n",
      "A value is trying to be set on a copy of a slice from a DataFrame.\n",
      "Try using .loc[row_indexer,col_indexer] = value instead\n",
      "\n",
      "See the caveats in the documentation: https://pandas.pydata.org/pandas-docs/stable/user_guide/indexing.html#returning-a-view-versus-a-copy\n",
      "  subset['region_name'] = subset['region_send'].map(region_map)\n"
     ]
    },
    {
     "data": {
      "image/png": "[encoded data removed]",
      "text/plain": [
       "<Figure size 1200x800 with 2 Axes>"
      ]
     },
     "metadata": {},
     "output_type": "display_data"
    }
   ],
   "source": [
    "import seaborn as sns\n",
    "\n",
    "# 2. How has the female representatives distributed regionally\n",
    "\n",
    "region_map = {0: 'Africa', 1: 'Asia', 2: 'Central and North America(including the West Indies)', \n",
    "              3: 'Europe(including Russia)', 4: 'Middle East including Egypt and Turkey', \n",
    "              5: 'Nordic Countries', 6: 'Oceania', 7: 'South America', 9999: 'Missing'}\n",
    "# Map the region codes to region names\n",
    "subset['region_name'] = subset['region_send'].map(region_map)\n",
    "\n",
    "# Group by region and gender, then count the occurrences\n",
    "region_gender_counts = subset.groupby(['region_name', 'gender']).size().unstack()\n",
    "\n",
    "# Normalize the counts to get percentages\n",
    "region_gender_percentage = region_gender_counts.apply(lambda x: x / x.sum() * 100, axis=1)\n",
    "\n",
    "# Plot the heatmap\n",
    "plt.figure(figsize=(12, 8))\n",
    "sns.heatmap(region_gender_percentage, annot=True, cmap='coolwarm', cbar_kws={'label': 'Percentage'})\n",
    "plt.title('Gender Representation by Region')\n",
    "plt.xlabel('Gender')\n",
    "plt.ylabel('Region')\n",
    "plt.show()"
   ]
  },
  {
   "cell_type": "code",
   "execution_count": 30,
   "metadata": {},
   "outputs": [
    {
     "data": {
      "text/plain": [
       "cname_send\n",
       "Afghanistan                                7.14\n",
       "Albania                                   14.63\n",
       "Algeria                                    3.07\n",
       "Andorra                                   48.28\n",
       "Angola                                    13.48\n",
       "                                          ...  \n",
       "Yemen, Arab Republic of                    0.00\n",
       "Yemen, People's Democratic Republic of     0.00\n",
       "Yugoslavia                                 0.84\n",
       "Zambia                                    26.06\n",
       "Zimbabwe                                  19.12\n",
       "Name: Female_Percentage, Length: 212, dtype: float64"
      ]
     },
     "execution_count": 30,
     "metadata": {},
     "output_type": "execute_result"
    }
   ],
   "source": [
    "df_countries = df[df['gender'] != 99].groupby([\"cname_send\", \"gender\"]).size().unstack(fill_value=0)\n",
    "df_countries[\"Female_Percentage\"] = (df_countries[1] / df_countries.sum(axis=1)) * 100\n",
    "df_countries1 = round(df_countries[\"Female_Percentage\"], 2)\n",
    "df_countries1\n"
   ]
  },
  {
   "cell_type": "code",
   "execution_count": 31,
   "metadata": {},
   "outputs": [
    {
     "data": {
      "image/png": "[encoded data removed]",
      "text/plain": [
       "<Figure size 1200x600 with 1 Axes>"
      ]
     },
     "metadata": {},
     "output_type": "display_data"
    },
    {
     "data": {
      "image/png": "[encoded data removed]",
      "text/plain": [
       "<Figure size 1200x600 with 1 Axes>"
      ]
     },
     "metadata": {},
     "output_type": "display_data"
    }
   ],
   "source": [
    "# 3. Which 10 countries have sent, highest and lowest number of female representatives\n",
    "\n",
    "df_countries1_filtered = df_countries1[df_countries1.index != 'Missing']\n",
    "\n",
    "min_value = df_countries1_filtered.min()\n",
    "country_with_min_value = df_countries1_filtered.idxmin()\n",
    "max_value = df_countries1_filtered.max()\n",
    "top_10_countries = df_countries1_filtered.nlargest(10)\n",
    "bottom_10_countries = df_countries1_filtered.nsmallest(10)\n",
    "\n",
    "import matplotlib.pyplot as plt\n",
    "\n",
    "# Plot the top 10 countries\n",
    "plt.figure(figsize=(12, 6))\n",
    "top_10_countries.plot(kind='bar', color='skyblue')\n",
    "plt.title('Top 10 Countries with Highest Percentage of Female Representatives')\n",
    "plt.xlabel('Country')\n",
    "plt.ylabel('Female Percentage')\n",
    "plt.xticks(rotation=45)\n",
    "plt.show()\n",
    "\n",
    "# Plot the bottom 10 countries\n",
    "plt.figure(figsize=(12, 6))\n",
    "bottom_10_countries.plot(kind='bar', color='salmon')\n",
    "plt.title('Bottom 10 Countries with Lowest Percentage of Female Representatives')\n",
    "plt.xlabel('Country')\n",
    "plt.ylabel('Female Percentage')\n",
    "plt.xticks(rotation=45)\n",
    "plt.show()\n",
    "\n"
   ]
  },
  {
   "cell_type": "code",
   "execution_count": 32,
   "metadata": {},
   "outputs": [
    {
     "data": {
      "text/html": [
       "<div>\n",
       "<style scoped>\n",
       "    .dataframe tbody tr th:only-of-type {\n",
       "        vertical-align: middle;\n",
       "    }\n",
       "\n",
       "    .dataframe tbody tr th {\n",
       "        vertical-align: top;\n",
       "    }\n",
       "\n",
       "    .dataframe thead th {\n",
       "        text-align: right;\n",
       "    }\n",
       "</style>\n",
       "<table border=\"1\" class=\"dataframe\">\n",
       "  <thead>\n",
       "    <tr style=\"text-align: right;\">\n",
       "      <th>gender</th>\n",
       "      <th>female</th>\n",
       "      <th>male</th>\n",
       "    </tr>\n",
       "    <tr>\n",
       "      <th>main_posting</th>\n",
       "      <th></th>\n",
       "      <th></th>\n",
       "    </tr>\n",
       "  </thead>\n",
       "  <tbody>\n",
       "    <tr>\n",
       "      <th>0</th>\n",
       "      <td>4052.0</td>\n",
       "      <td>14986.0</td>\n",
       "    </tr>\n",
       "    <tr>\n",
       "      <th>1</th>\n",
       "      <td>8269.0</td>\n",
       "      <td>61790.0</td>\n",
       "    </tr>\n",
       "    <tr>\n",
       "      <th>99</th>\n",
       "      <td>NaN</td>\n",
       "      <td>3.0</td>\n",
       "    </tr>\n",
       "  </tbody>\n",
       "</table>\n",
       "</div>"
      ],
      "text/plain": [
       "gender        female     male\n",
       "main_posting                 \n",
       "0             4052.0  14986.0\n",
       "1             8269.0  61790.0\n",
       "99               NaN      3.0"
      ]
     },
     "execution_count": 32,
     "metadata": {},
     "output_type": "execute_result"
    }
   ],
   "source": [
    "main_posting_gender_distribution = subset.groupby(['main_posting', 'gender']).size().unstack()\n",
    "main_posting_gender_distribution"
   ]
  },
  {
   "cell_type": "code",
   "execution_count": 33,
   "metadata": {},
   "outputs": [
    {
     "data": {
      "image/png": "[encoded data removed]",
      "text/plain": [
       "<Figure size 1200x600 with 1 Axes>"
      ]
     },
     "metadata": {},
     "output_type": "display_data"
    }
   ],
   "source": [
    "import seaborn as sns\n",
    "\n",
    "# Gender comparison of the diplomats between GME(Greater Middle East) ond Non GME\n",
    "# 0 = Not GME, 1 = GME \n",
    "# Non GME received from GME or Non GME's\n",
    "\n",
    "# Group by GME_receive and GME_send, then count the occurrences of each gender\n",
    "GME_gender_distribution = subset.groupby(['GME_receive', 'GME_send', 'gender']).size().unstack().fillna(0)\n",
    "\n",
    "# Rename columns for better readability\n",
    "GME_gender_distribution.columns = ['Female', 'Male']\n",
    "\n",
    "# Display the distribution\n",
    "GME_gender_distribution\n",
    "\n",
    "# Reset index to convert MultiIndex to columns\n",
    "GME_gender_distribution = GME_gender_distribution.reset_index()\n",
    "\n",
    "# Melt the dataframe to long format for seaborn\n",
    "GME_gender_distribution_melted = GME_gender_distribution.melt(id_vars=['GME_receive', 'GME_send'], value_vars=['Female', 'Male'], var_name='Gender', value_name='Count')\n",
    "\n",
    "# Create a boxplot\n",
    "plt.figure(figsize=(12, 6))\n",
    "\n",
    "# Update the hue labels\n",
    "GME_gender_distribution_melted['GME_receive'] = GME_gender_distribution_melted['GME_receive'].map({0: 'Not GME', 1: 'GME'})\n",
    "sns.boxplot(x='Gender', y='Count', hue='GME_receive', data=GME_gender_distribution_melted)\n",
    "plt.title('Gender Distribution of Diplomats GME received')\n",
    "plt.xlabel('Gender')\n",
    "plt.ylabel('Count')\n",
    "plt.show()"
   ]
  },
  {
   "cell_type": "code",
   "execution_count": 34,
   "metadata": {},
   "outputs": [
    {
     "data": {
      "text/plain": [
       "(FFP_receive\n",
       " 0    87556\n",
       " 1     1544\n",
       " Name: count, dtype: int64,\n",
       " FFP_send\n",
       " 0    87486\n",
       " 1     1614\n",
       " Name: count, dtype: int64)"
      ]
     },
     "execution_count": 34,
     "metadata": {},
     "output_type": "execute_result"
    }
   ],
   "source": [
    "FFP_count = subset.FFP_receive.value_counts()\n",
    "FFP_count1 = subset.FFP_send.value_counts()\n",
    "FFP_count, FFP_count1"
   ]
  },
  {
   "cell_type": "code",
   "execution_count": 35,
   "metadata": {},
   "outputs": [
    {
     "data": {
      "text/html": [
       "<div>\n",
       "<style scoped>\n",
       "    .dataframe tbody tr th:only-of-type {\n",
       "        vertical-align: middle;\n",
       "    }\n",
       "\n",
       "    .dataframe tbody tr th {\n",
       "        vertical-align: top;\n",
       "    }\n",
       "\n",
       "    .dataframe thead th {\n",
       "        text-align: right;\n",
       "    }\n",
       "</style>\n",
       "<table border=\"1\" class=\"dataframe\">\n",
       "  <thead>\n",
       "    <tr style=\"text-align: right;\">\n",
       "      <th>FFP_send</th>\n",
       "      <th>0</th>\n",
       "      <th>1</th>\n",
       "    </tr>\n",
       "    <tr>\n",
       "      <th>region_name</th>\n",
       "      <th></th>\n",
       "      <th></th>\n",
       "    </tr>\n",
       "  </thead>\n",
       "  <tbody>\n",
       "    <tr>\n",
       "      <th>Africa</th>\n",
       "      <td>16038.0</td>\n",
       "      <td>6.0</td>\n",
       "    </tr>\n",
       "    <tr>\n",
       "      <th>Asia</th>\n",
       "      <td>15257.0</td>\n",
       "      <td>NaN</td>\n",
       "    </tr>\n",
       "    <tr>\n",
       "      <th>Central and North America(including the West Indies)</th>\n",
       "      <td>7644.0</td>\n",
       "      <td>604.0</td>\n",
       "    </tr>\n",
       "    <tr>\n",
       "      <th>Europe(including Russia)</th>\n",
       "      <td>27508.0</td>\n",
       "      <td>622.0</td>\n",
       "    </tr>\n",
       "    <tr>\n",
       "      <th>Middle East including Egypt and Turkey</th>\n",
       "      <td>8895.0</td>\n",
       "      <td>NaN</td>\n",
       "    </tr>\n",
       "    <tr>\n",
       "      <th>Nordic Countries</th>\n",
       "      <td>3488.0</td>\n",
       "      <td>382.0</td>\n",
       "    </tr>\n",
       "    <tr>\n",
       "      <th>Oceania</th>\n",
       "      <td>2139.0</td>\n",
       "      <td>NaN</td>\n",
       "    </tr>\n",
       "    <tr>\n",
       "      <th>South America</th>\n",
       "      <td>6517.0</td>\n",
       "      <td>NaN</td>\n",
       "    </tr>\n",
       "  </tbody>\n",
       "</table>\n",
       "</div>"
      ],
      "text/plain": [
       "FFP_send                                                  0      1\n",
       "region_name                                                       \n",
       "Africa                                              16038.0    6.0\n",
       "Asia                                                15257.0    NaN\n",
       "Central and North America(including the West In...   7644.0  604.0\n",
       "Europe(including Russia)                            27508.0  622.0\n",
       "Middle East including Egypt and Turkey               8895.0    NaN\n",
       "Nordic Countries                                     3488.0  382.0\n",
       "Oceania                                              2139.0    NaN\n",
       "South America                                        6517.0    NaN"
      ]
     },
     "execution_count": 35,
     "metadata": {},
     "output_type": "execute_result"
    }
   ],
   "source": [
    "FFP_countries = subset.groupby([\"region_name\", \"FFP_send\"]).size().unstack()\n",
    "FFP_countries"
   ]
  },
  {
   "cell_type": "code",
   "execution_count": 36,
   "metadata": {
    "vscode": {
     "languageId": "ruby"
    }
   },
   "outputs": [
    {
     "data": {
      "text/html": [
       "<div>\n",
       "<style scoped>\n",
       "    .dataframe tbody tr th:only-of-type {\n",
       "        vertical-align: middle;\n",
       "    }\n",
       "\n",
       "    .dataframe tbody tr th {\n",
       "        vertical-align: top;\n",
       "    }\n",
       "\n",
       "    .dataframe thead th {\n",
       "        text-align: right;\n",
       "    }\n",
       "</style>\n",
       "<table border=\"1\" class=\"dataframe\">\n",
       "  <thead>\n",
       "    <tr style=\"text-align: right;\">\n",
       "      <th>gender</th>\n",
       "      <th>female</th>\n",
       "      <th>male</th>\n",
       "    </tr>\n",
       "    <tr>\n",
       "      <th>cname_send</th>\n",
       "      <th></th>\n",
       "      <th></th>\n",
       "    </tr>\n",
       "  </thead>\n",
       "  <tbody>\n",
       "    <tr>\n",
       "      <th>Canada</th>\n",
       "      <td>317</td>\n",
       "      <td>783</td>\n",
       "    </tr>\n",
       "    <tr>\n",
       "      <th>France</th>\n",
       "      <td>187</td>\n",
       "      <td>1354</td>\n",
       "    </tr>\n",
       "    <tr>\n",
       "      <th>Germany</th>\n",
       "      <td>161</td>\n",
       "      <td>993</td>\n",
       "    </tr>\n",
       "    <tr>\n",
       "      <th>Italy</th>\n",
       "      <td>74</td>\n",
       "      <td>1113</td>\n",
       "    </tr>\n",
       "    <tr>\n",
       "      <th>Japan</th>\n",
       "      <td>23</td>\n",
       "      <td>1288</td>\n",
       "    </tr>\n",
       "    <tr>\n",
       "      <th>United Kingdom of Great Britain and Northern Ireland</th>\n",
       "      <td>258</td>\n",
       "      <td>1144</td>\n",
       "    </tr>\n",
       "    <tr>\n",
       "      <th>United States of America</th>\n",
       "      <td>321</td>\n",
       "      <td>1078</td>\n",
       "    </tr>\n",
       "  </tbody>\n",
       "</table>\n",
       "</div>"
      ],
      "text/plain": [
       "gender                                              female  male\n",
       "cname_send                                                      \n",
       "Canada                                                 317   783\n",
       "France                                                 187  1354\n",
       "Germany                                                161   993\n",
       "Italy                                                   74  1113\n",
       "Japan                                                   23  1288\n",
       "United Kingdom of Great Britain and Northern Ir...     258  1144\n",
       "United States of America                               321  1078"
      ]
     },
     "execution_count": 36,
     "metadata": {},
     "output_type": "execute_result"
    }
   ],
   "source": [
    "G8_mapping = {1: 'United States of America', 2: 'Canada', 3: 'United Kingdom of Great Britain and Northern Ireland', 4: 'France', 5: 'Germany', 6: 'Italy', 7: 'Japan', 8: 'Russia'}\n",
    "G8_gender = subset[\"gender\"].map(G8_mapping)\n",
    "G8_gender_distribution = subset[subset['cname_send'].isin(G8_mapping.values())].groupby(['cname_send', 'gender']).size().unstack().fillna(0)\n",
    "G8_gender_distribution"
   ]
  },
  {
   "cell_type": "code",
   "execution_count": 37,
   "metadata": {
    "vscode": {
     "languageId": "ruby"
    }
   },
   "outputs": [
    {
     "data": {
      "text/plain": [
       "<Figure size 1200x600 with 0 Axes>"
      ]
     },
     "metadata": {},
     "output_type": "display_data"
    },
    {
     "data": {
      "image/png": "[encoded data removed]",
      "text/plain": [
       "<Figure size 640x480 with 1 Axes>"
      ]
     },
     "metadata": {},
     "output_type": "display_data"
    }
   ],
   "source": [
    "# Shorten the names\n",
    "G8_gender_distribution.rename(index={\n",
    "    'United States of America': 'USA',\n",
    "    'United Kingdom of Great Britain and Northern Ireland': 'UK'\n",
    "}, inplace=True)\n",
    "\n",
    "# Plot the G8 countries\n",
    "plt.figure(figsize=(12, 6))\n",
    "G8_gender_distribution.plot(kind='bar', color=['skyblue', 'darkblue'])\n",
    "plt.title('G8 Countries Gender Distribution')\n",
    "plt.xlabel('Country')\n",
    "plt.ylabel('Count')\n",
    "plt.xticks(rotation=45)\n",
    "plt.show()"
   ]
  },
  {
   "cell_type": "code",
   "execution_count": 38,
   "metadata": {},
   "outputs": [
    {
     "name": "stdout",
     "output_type": "stream",
     "text": [
      "Chi-squared: 630.4666823710958\n",
      "P-value: 6.235755401591393e-133\n"
     ]
    },
    {
     "data": {
      "image/png": "[encoded data removed]",
      "text/plain": [
       "<Figure size 1200x600 with 2 Axes>"
      ]
     },
     "metadata": {},
     "output_type": "display_data"
    }
   ],
   "source": [
    "from scipy.stats import chi2_contingency\n",
    "import seaborn as sns\n",
    "\n",
    "# Create a contingency table\n",
    "contingency_table = pd.crosstab(subset['title'], subset['gender'])\n",
    "\n",
    "# Perform the chi-squared test\n",
    "chi2, p, dof, expected = chi2_contingency(contingency_table)\n",
    "\n",
    "# Print the results\n",
    "print(f\"Chi-squared: {chi2}\")\n",
    "print(f\"P-value: {p}\")\n",
    "\n",
    "# Create a heatmap for the contingency table\n",
    "plt.figure(figsize=(12, 6))\n",
    "sns.heatmap(contingency_table, annot=True, fmt=\"d\", cmap=\"YlGnBu\", cbar_kws={'label': 'Count'})\n",
    "plt.title('Contingency Table of Titles and Gender')\n",
    "plt.xlabel('Gender')\n",
    "plt.ylabel('Title')\n",
    "plt.show()"
   ]
  },
  {
   "cell_type": "code",
   "execution_count": null,
   "metadata": {},
   "outputs": [],
   "source": []
  }
 ],
 "metadata": {
  "kernelspec": {
   "display_name": "base",
   "language": "python",
   "name": "python3"
  },
  "language_info": {
   "codemirror_mode": {
    "name": "ipython",
    "version": 3
   },
   "file_extension": ".py",
   "mimetype": "text/x-python",
   "name": "python",
   "nbconvert_exporter": "python",
   "pygments_lexer": "ipython3",
   "version": "3.12.4"
  }
 },
 "nbformat": 4,
 "nbformat_minor": 2
}
